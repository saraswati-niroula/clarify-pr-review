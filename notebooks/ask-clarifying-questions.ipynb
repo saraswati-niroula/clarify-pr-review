{
 "cells": [
  {
   "cell_type": "code",
   "execution_count": null,
   "metadata": {
    "_cell_guid": "b1076dfc-b9ad-4769-8c92-a6c4dae69d19",
    "_uuid": "8f2839f25d086af736a60e9eeb907d3b93b6e0e5",
    "execution": {
     "iopub.execute_input": "2025-09-24T19:23:17.734378Z",
     "iopub.status.busy": "2025-09-24T19:23:17.734173Z",
     "iopub.status.idle": "2025-09-24T19:24:47.888324Z",
     "shell.execute_reply": "2025-09-24T19:24:47.887522Z",
     "shell.execute_reply.started": "2025-09-24T19:23:17.734322Z"
    },
    "trusted": true
   },
   "outputs": [],
   "source": [
    "!pip -q install transformers peft accelerate bitsandbytes safetensors\n",
    "!pip -q install datasets\n",
    "\n",
    "# Hugging Face login\n",
    "from huggingface_hub import login\n",
    "login()\n"
   ]
  },
  {
   "cell_type": "code",
   "execution_count": null,
   "metadata": {
    "execution": {
     "iopub.execute_input": "2025-09-24T19:25:25.149941Z",
     "iopub.status.busy": "2025-09-24T19:25:25.149674Z",
     "iopub.status.idle": "2025-09-24T19:28:31.054396Z",
     "shell.execute_reply": "2025-09-24T19:28:31.053769Z",
     "shell.execute_reply.started": "2025-09-24T19:25:25.149912Z"
    },
    "trusted": true
   },
   "outputs": [],
   "source": [
    "import torch, json\n",
    "from transformers import AutoTokenizer, AutoModelForCausalLM, pipeline\n",
    "from peft import PeftModel\n",
    "\n",
    "BASE = \"deepseek-ai/deepseek-coder-6.7b-instruct\"\n",
    "ADAPTER = \"jie-jw-wu/clarify-coder\"\n",
    "\n",
    "# Try 4-bit; fallback if not available\n",
    "try:\n",
    "    import bitsandbytes as bnb  # noqa\n",
    "    load_kwargs = dict(load_in_4bit=True, torch_dtype=torch.float16, device_map=\"auto\")\n",
    "except Exception:\n",
    "    load_kwargs = dict(torch_dtype=torch.float16, device_map=\"auto\")\n",
    "\n",
    "tok = AutoTokenizer.from_pretrained(BASE, use_fast=True)\n",
    "model = AutoModelForCausalLM.from_pretrained(BASE, **load_kwargs)\n",
    "model = PeftModel.from_pretrained(model, ADAPTER)\n",
    "\n",
    "gen = pipeline(\n",
    "    \"text-generation\",\n",
    "    model=model,\n",
    "    tokenizer=tok,\n",
    "    device_map=\"auto\",\n",
    "    torch_dtype=torch.float16,\n",
    ")\n"
   ]
  },
  {
   "cell_type": "code",
   "execution_count": 52,
   "metadata": {
    "execution": {
     "iopub.execute_input": "2025-09-24T20:27:00.319629Z",
     "iopub.status.busy": "2025-09-24T20:27:00.318922Z",
     "iopub.status.idle": "2025-09-24T20:27:00.324893Z",
     "shell.execute_reply": "2025-09-24T20:27:00.324258Z",
     "shell.execute_reply.started": "2025-09-24T20:27:00.319605Z"
    },
    "trusted": true
   },
   "outputs": [],
   "source": [
    "import re, csv\n",
    "\n",
    "def extract_title(pr_text: str) -> str:\n",
    "    # tries to grab \"PR Title: ...\" from prompt format; falls back gracefully\n",
    "    m = re.search(r'PR Title:\\s*(.+)', pr_text)\n",
    "    return m.group(1).strip() if m else pr_text.splitlines()[0][:120]\n",
    "\n",
    "def ask_questions(pr_text: str, k: int = 2):\n",
    "    # returns a list of numbered questions\n",
    "    import re\n",
    "    prompt = f\"\"\"You are analyzing an ambiguous PR description.\n",
    "Think step-by-step to find missing requirements.\n",
    "Ask only clarifying questions a reviewer would need.\n",
    "Return {k} numbered questions. Do not answer them.\n",
    "\n",
    "PR description:\n",
    "{pr_text}\n",
    "\"\"\"\n",
    "    out = gen(\n",
    "        prompt,\n",
    "        max_new_tokens=200,\n",
    "        do_sample=False,\n",
    "        repetition_penalty=1.05,\n",
    "    )[0][\"generated_text\"]\n",
    "    completion = out[len(prompt):].strip()\n",
    "\n",
    "    qs = []\n",
    "    for ln in completion.splitlines():\n",
    "        ln = ln.strip()\n",
    "        ln = re.sub(r\"^[\\-\\*\\d\\.\\)\\s]+\", \"\", ln)  # strip bullets/numbers\n",
    "        if ln.endswith(\"?\") and len(ln) > 4:\n",
    "            qs.append(ln)\n",
    "    return qs[:k]"
   ]
  },
  {
   "cell_type": "code",
   "execution_count": 54,
   "metadata": {
    "execution": {
     "iopub.execute_input": "2025-09-24T20:27:08.147461Z",
     "iopub.status.busy": "2025-09-24T20:27:08.147176Z",
     "iopub.status.idle": "2025-09-24T20:27:08.151825Z",
     "shell.execute_reply": "2025-09-24T20:27:08.151228Z",
     "shell.execute_reply.started": "2025-09-24T20:27:08.147442Z"
    },
    "trusted": true
   },
   "outputs": [],
   "source": [
    "prs =[\n",
    "    {\"id\": 0, \"prompt\": \"PR Title: Improve list scoring logic\\n\\nDescription:\\nWe need to compute the \\\"score\\\" of a list for analytics. Make the scoring correct and efficient.\"},\n",
    "{\"id\": 1, \"prompt\": \"PR Title: Better user status\\n\\nDescription:\\nShow a better \\\"active\\\" status for users. It should reflect engagement more accurately.\"},\n",
    "{\"id\": 2, \"prompt\": \"PR Title: Optimize search\\n\\nDescription:\\nMake search faster with caching or something similar. Keep correctness.\"},\n",
    "{\"id\": 3, \"prompt\": \"PR Title: Improve error reporting\\n\\nDescription:\\nWe want clearer errors in the API responses. Make them more helpful.\"},\n",
    "{\"id\": 4, \"prompt\": \"PR Title: Add pagination to transactions API\\n\\nDescription:\\nAdd pagination to /api/transactions.\"},\n",
    "{\"id\": 5, \"prompt\": \"PR Title: Rate limiter for login\\n\\nDescription:\\nAdd a rate limiter to login to prevent abuse.\"},\n",
    "{\"id\": 6, \"prompt\": \"PR Title: Export report to CSV\\n\\nDescription:\\nLet users export the sales report to CSV.\"},\n",
    "{\"id\": 7, \"prompt\": \"PR Title: Image upload validation\\n\\nDescription:\\nAdd validation for uploaded images.\"},\n",
    "{\"id\": 8, \"prompt\": \"PR Title: Update password requirements\\n\\nDescription:\\nMake passwords simpler: only letters. Examples: - \\\"P@ssw0rd!\\\" (expected: valid)\"},\n",
    "{\"id\": 9, \"prompt\": \"PR Title: Normalize timezones\\n\\nDescription:\\nStore all times in local timezone. Comments elsewhere: - \\\"All backend times must be UTC.\\\"\"},\n",
    "{\"id\": 10, \"prompt\": \"PR Title: Remove deprecated endpoint\\n\\nDescription:\\nRemove GET /v1/items. Changelog in PR body: - \\\"Add GET /v1/items docs.\\\"\"},\n",
    "{\"id\": 11, \"prompt\": \"PR Title: Session timeout policy\\n\\nDescription:\\nIntroduce automatic logout after inactivity. Default timeout is not specified. Apply this to all user roles.\"}\n",
    "]"
   ]
  },
  {
   "cell_type": "code",
   "execution_count": null,
   "metadata": {
    "execution": {
     "iopub.execute_input": "2025-09-24T20:27:10.199060Z",
     "iopub.status.busy": "2025-09-24T20:27:10.198460Z",
     "iopub.status.idle": "2025-09-24T20:27:31.187122Z",
     "shell.execute_reply": "2025-09-24T20:27:31.186462Z",
     "shell.execute_reply.started": "2025-09-24T20:27:10.199014Z"
    },
    "trusted": true
   },
   "outputs": [],
   "source": [
    "import re, csv\n",
    "\n",
    "def extract_title(pr_text: str) -> str:\n",
    "    m = re.search(r'PR Title:\\s*(.+)', pr_text)\n",
    "    return m.group(1).strip() if m else pr_text.splitlines()[0][:120]\n",
    "\n",
    "out_path = \"questions.tsv\"\n",
    "\n",
    "with open(out_path, \"w\", newline=\"\", encoding=\"utf-8\") as f:\n",
    "    w = csv.writer(f, delimiter=\"\\t\", quoting=csv.QUOTE_MINIMAL)\n",
    "    w.writerow([\"id\", \"pr_title\", \"clarify_questions\"])  # header\n",
    "\n",
    "    for obj in prs:\n",
    "        pid = str(obj[\"id\"])\n",
    "        pr_text = obj.get(\"pr_text\") or obj.get(\"prompt\") or \"\"\n",
    "        print(f\"working on id={pid} | title={extract_title(pr_text)}\")\n",
    "\n",
    "        qs = ask_questions(pr_text, k=2)  # your numbered-question generator\n",
    "        print(\"qs\",qs)\n",
    "        block = \"\\n\".join([f\"Q{i}: {q}\" for i, q in enumerate(qs, start=1)])  # newline-separated in one cell\n",
    "\n",
    "        w.writerow([pid, extract_title(pr_text), block])\n",
    "\n",
    "print(\"Wrote:\", out_path)"
   ]
  },
  {
   "cell_type": "code",
   "execution_count": null,
   "metadata": {
    "execution": {
     "iopub.execute_input": "2025-09-24T20:13:36.169578Z",
     "iopub.status.busy": "2025-09-24T20:13:36.169300Z",
     "iopub.status.idle": "2025-09-24T20:13:36.180112Z",
     "shell.execute_reply": "2025-09-24T20:13:36.179426Z",
     "shell.execute_reply.started": "2025-09-24T20:13:36.169557Z"
    },
    "trusted": true
   },
   "outputs": [],
   "source": [
    "import pandas as pd\n",
    "df = pd.read_csv(\"questions.tsv\", sep=\"\\t\")\n",
    "df.head()\n"
   ]
  }
 ],
 "metadata": {
  "kaggle": {
   "accelerator": "nvidiaTeslaT4",
   "dataSources": [],
   "dockerImageVersionId": 31090,
   "isGpuEnabled": true,
   "isInternetEnabled": true,
   "language": "python",
   "sourceType": "notebook"
  },
  "kernelspec": {
   "display_name": "Python 3",
   "language": "python",
   "name": "python3"
  },
  "language_info": {
   "codemirror_mode": {
    "name": "ipython",
    "version": 3
   },
   "file_extension": ".py",
   "mimetype": "text/x-python",
   "name": "python",
   "nbconvert_exporter": "python",
   "pygments_lexer": "ipython3",
   "version": "3.11.13"
  }
 },
 "nbformat": 4,
 "nbformat_minor": 4
}
